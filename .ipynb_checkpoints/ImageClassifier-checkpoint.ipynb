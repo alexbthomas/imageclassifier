{
 "cells": [
  {
   "cell_type": "code",
   "execution_count": 4,
   "id": "1af30511-d59a-43be-b646-224a29d35446",
   "metadata": {},
   "outputs": [],
   "source": [
    "#importing libraries\n",
    "import tensorflow as tf\n",
    "import os"
   ]
  },
  {
   "cell_type": "code",
   "execution_count": 5,
   "id": "aa93de2b-46d3-4025-82c9-6f4da1b98213",
   "metadata": {},
   "outputs": [],
   "source": [
    "#limit gpu usage\n",
    "gpus = tf.config.experimental.list_physical_devices('GPU')\n",
    "for gpu in gpus:\n",
    "    tf.config.experimental.set_memory_growth(gpu, True)"
   ]
  },
  {
   "cell_type": "code",
   "execution_count": 16,
   "id": "e4d4dbe8-15c0-46e6-9db0-62b0ceb4c590",
   "metadata": {},
   "outputs": [],
   "source": [
    "#used for computer vision\n",
    "import cv2\n",
    "#used for checking extensions of images\n",
    "import imghdr"
   ]
  },
  {
   "cell_type": "code",
   "execution_count": 9,
   "id": "0785be59-a9c1-401e-b2fd-29f519eeed73",
   "metadata": {},
   "outputs": [],
   "source": [
    "data_dir = 'data'"
   ]
  },
  {
   "cell_type": "code",
   "execution_count": null,
   "id": "b8a66c49-dde0-489a-baf0-63bb65dd9336",
   "metadata": {},
   "outputs": [],
   "source": [
    "os.listdir(os.path.join(data_dir, 'happy'))"
   ]
  },
  {
   "cell_type": "code",
   "execution_count": 8,
   "id": "31425d1b-c590-4f7b-a0ae-78e9992a12ea",
   "metadata": {},
   "outputs": [],
   "source": [
    "image_exts = ['jpeg', 'jpg', 'bmp', 'png']"
   ]
  },
  {
   "cell_type": "code",
   "execution_count": null,
   "id": "4afec0cc-ec02-4817-b76b-a2dae7ba31cc",
   "metadata": {},
   "outputs": [],
   "source": []
  }
 ],
 "metadata": {
  "kernelspec": {
   "display_name": "Python 3 (ipykernel)",
   "language": "python",
   "name": "python3"
  },
  "language_info": {
   "codemirror_mode": {
    "name": "ipython",
    "version": 3
   },
   "file_extension": ".py",
   "mimetype": "text/x-python",
   "name": "python",
   "nbconvert_exporter": "python",
   "pygments_lexer": "ipython3",
   "version": "3.9.5"
  }
 },
 "nbformat": 4,
 "nbformat_minor": 5
}
